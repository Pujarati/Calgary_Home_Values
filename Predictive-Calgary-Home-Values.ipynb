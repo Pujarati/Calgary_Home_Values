{
 "cells": [
  {
   "cell_type": "code",
   "execution_count": 2,
   "metadata": {},
   "outputs": [],
   "source": [
    "import os\n",
    "import pandas as pd\n",
    "import numpy as np\n",
    "import seaborn as sns\n",
    "import matplotlib.pyplot as plt\n",
    "\n",
    "from sklearn.model_selection import train_test_split\n",
    "from sklearn.ensemble import RandomForestRegressor\n",
    "from sklearn.neighbors import KNeighborsRegressor\n",
    "from sklearn.linear_model import LinearRegression, Lasso\n",
    "from sklearn.metrics import accuracy_score\n",
    "from sklearn.metrics import r2_score\n",
    "from sklearn.metrics import mean_absolute_error"
   ]
  },
  {
   "cell_type": "code",
   "execution_count": 3,
   "metadata": {},
   "outputs": [],
   "source": [
    "from lib.utils import  quantile_cutter"
   ]
  },
  {
   "cell_type": "markdown",
   "metadata": {},
   "source": [
    "I chose to do this project as an introduction to exploring basic data cleaning and machine learning concepts. I retreived a dataset from https://data.calgary.ca/ containing information on property assessment valuations across Calgary properties. The goal of this project was to find a set of features that can be used to predict the assessement value of a property in Calgary. "
   ]
  },
  {
   "cell_type": "markdown",
   "metadata": {},
   "source": [
    "First let's open our file and remove any unnamed columns that don't contain any import information"
   ]
  },
  {
   "cell_type": "code",
   "execution_count": 4,
   "metadata": {},
   "outputs": [],
   "source": [
    "df_init = pd.read_csv(\n",
    "    \"Data/Current_Year_Property_Assessments__Parcel_ (1).csv\",engine='python')"
   ]
  },
  {
   "cell_type": "code",
   "execution_count": 4,
   "metadata": {},
   "outputs": [],
   "source": [
    "df = df_init.copy()\n",
    "df = df[df.columns.drop(list(df.filter(regex='Unnamed')))]"
   ]
  },
  {
   "cell_type": "markdown",
   "metadata": {},
   "source": [
    "We first need to clean our data so that it can be processed for our model. Let's start by checking for any NaN values.\n"
   ]
  },
  {
   "cell_type": "code",
   "execution_count": 5,
   "metadata": {},
   "outputs": [
    {
     "data": {
      "text/plain": [
       "ROLL_YEAR                            0\n",
       "ROLL_NUMBER                          0\n",
       "ADDRESS                              0\n",
       "ASSESSED_VALUE                     223\n",
       "ASSESSMENT_CLASS                     0\n",
       "ASSESSMENT_CLASS_DESCRIPTION         0\n",
       "RE_ASSESSED_VALUE                25665\n",
       "NR_ASSESSED_VALUE               527917\n",
       "FL_ASSESSED_VALUE               553510\n",
       "COMM_CODE                            0\n",
       "COMM_NAME                            0\n",
       "YEAR_OF_CONSTRUCTION             20289\n",
       "LAND_USE_DESIGNATION              5688\n",
       "PROPERTY_TYPE                        1\n",
       "LAND_SIZE_SM                         1\n",
       "LAND_SIZE_SF                         1\n",
       "LAND_SIZE_AC                         1\n",
       "MOD_DATE                             1\n",
       "SUB_PROPERTY_USE                469883\n",
       "MULTIPOLYGON                         1\n",
       "dtype: int64"
      ]
     },
     "execution_count": 5,
     "metadata": {},
     "output_type": "execute_result"
    }
   ],
   "source": [
    "df.isna().sum()"
   ]
  },
  {
   "cell_type": "markdown",
   "metadata": {},
   "source": [
    "Wow that's a lot of Nan's. We definitely need to deal with those."
   ]
  },
  {
   "cell_type": "markdown",
   "metadata": {},
   "source": [
    "For this model, we will be focused on predicting the ASSESSED_VALUE. I am going to be dropping all other assessed value columns that are not ASSESSED_VALUE. We are going to drop all non-residential rows later on anyway so ASSESSED_VALUE is all we need. The other columns contain duplicate data and will therefore be dropped as well. ADDRESS will be dropped because we only care about the neighbourhood."
   ]
  },
  {
   "cell_type": "code",
   "execution_count": 6,
   "metadata": {},
   "outputs": [],
   "source": [
    "drop_list = [\n",
    "    'RE_ASSESSED_VALUE', \n",
    "    'NR_ASSESSED_VALUE',\n",
    "    'FL_ASSESSED_VALUE',\n",
    "    'SUB_PROPERTY_USE',\n",
    "    'ADDRESS',\n",
    "    'ASSESSMENT_CLASS',\n",
    "    'COMM_CODE']\n",
    "    \n",
    "df = df.drop(columns=drop_list)"
   ]
  },
  {
   "cell_type": "markdown",
   "metadata": {},
   "source": [
    "We can now remove any remaining rows containing null values"
   ]
  },
  {
   "cell_type": "code",
   "execution_count": 7,
   "metadata": {},
   "outputs": [],
   "source": [
    "df = df.dropna()"
   ]
  },
  {
   "cell_type": "markdown",
   "metadata": {},
   "source": [
    "We now have a starting point for important features that we want to explore"
   ]
  },
  {
   "cell_type": "code",
   "execution_count": 8,
   "metadata": {},
   "outputs": [],
   "source": [
    "explore_list = [\n",
    "    'ROLL_YEAR',\n",
    "    'ASSESSED_VALUE',\n",
    "    'ASSESSMENT_CLASS_DESCRIPTION',\n",
    "    'COMM_NAME',\n",
    "    'YEAR_OF_CONSTRUCTION',\n",
    "    'LAND_USE_DESIGNATION',\n",
    "    'PROPERTY_TYPE',\"\"\n",
    "    'LAND_SIZE_SM',\n",
    "    'LAND_SIZE_SF',\n",
    "    'LAND_SIZE_AC',\n",
    "    'MOD_DATE']\n",
    "\n",
    "df = df.filter(explore_list)"
   ]
  },
  {
   "cell_type": "markdown",
   "metadata": {},
   "source": [
    "I want a simple predictive target so I am going to filter out all rows containing non-residential properties."
   ]
  },
  {
   "cell_type": "code",
   "execution_count": 9,
   "metadata": {},
   "outputs": [],
   "source": [
    "keep_codes = ['Non-residential']\n",
    "df = df.query('ASSESSMENT_CLASS_DESCRIPTION not in @keep_codes')"
   ]
  },
  {
   "cell_type": "markdown",
   "metadata": {},
   "source": [
    "It also appears that some coordinates were misplaced into columns with different data. Any rows containing coordinates in columns where they shouldn't exist will be removed. To remove them, we are making an assumption that the property type strings longer than a length of 5 shouldn't be there. Similarly, we are dropping community names that contain non-alphabetical characters."
   ]
  },
  {
   "cell_type": "code",
   "execution_count": 10,
   "metadata": {},
   "outputs": [],
   "source": [
    "#Remove any unwanted coordinates\n",
    "df = df[df[\"PROPERTY_TYPE\"].str.len() < 5]\n",
    "df = df[df[\"COMM_NAME\"].str.contains(pat=\"a-zA-Z\",regex=True) == False]"
   ]
  },
  {
   "cell_type": "markdown",
   "metadata": {},
   "source": [
    "We can now take a look at how some of the features are distributed to check for any outliers. Let's first take a look at the assessed values for all the properties we've included so far."
   ]
  },
  {
   "cell_type": "code",
   "execution_count": 11,
   "metadata": {},
   "outputs": [
    {
     "data": {
      "text/plain": [
       "Text(0.5, 0, 'ASSESSMENT VALUE $')"
      ]
     },
     "execution_count": 11,
     "metadata": {},
     "output_type": "execute_result"
    },
    {
     "data": {
      "image/png": "[encoded data removed]",
      "text/plain": [
       "<Figure size 432x288 with 1 Axes>"
      ]
     },
     "metadata": {
      "needs_background": "light"
     },
     "output_type": "display_data"
    }
   ],
   "source": [
    "df['ASSESSED_VALUE'] = df['ASSESSED_VALUE'].astype(int)\n",
    "df.hist(column='ASSESSED_VALUE', bins =30)\n",
    "plt.xlabel(\"ASSESSMENT VALUE $\")"
   ]
  },
  {
   "cell_type": "markdown",
   "metadata": {},
   "source": [
    "What?? Why?? It looks as if we only have one column of values but the axis extends all the way to $175 Million. Clearly we have some outliers but they're spread out so far they're not showing up."
   ]
  },
  {
   "cell_type": "markdown",
   "metadata": {},
   "source": [
    " I tried the standard rule for outlier removal (1.5 * the interquantile range), but wasn't very happy with the results. To handle this, I've instead written a convienence function to remove outliers based on the quantiles which allows for some trial and error and a qualitative judgement. In the end, we dropped a spike that may be from trailer homes which appear at the start, as well as the very high value homes above $1M or so. "
   ]
  },
  {
   "cell_type": "code",
   "execution_count": 12,
   "metadata": {},
   "outputs": [
    {
     "data": {
      "image/png": "[encoded data removed]",
      "text/plain": [
       "<Figure size 432x288 with 1 Axes>"
      ]
     },
     "metadata": {
      "needs_background": "light"
     },
     "output_type": "display_data"
    }
   ],
   "source": [
    "df_cut = quantile_cutter(df,'ASSESSED_VALUE',0.99,0,verbose=True)"
   ]
  },
  {
   "cell_type": "code",
   "execution_count": 13,
   "metadata": {},
   "outputs": [
    {
     "data": {
      "image/png": "[encoded data removed]",
      "text/plain": [
       "<Figure size 432x288 with 1 Axes>"
      ]
     },
     "metadata": {
      "needs_background": "light"
     },
     "output_type": "display_data"
    }
   ],
   "source": [
    "# Q1 = df.ASSESSED_VALUE.quantile(0.25)\n",
    "# Q3 = df.ASSESSED_VALUE.quantile(0.75)\n",
    "# IQR = Q3 - Q1\n",
    "# outlier_mask = (df.ASSESSED_VALUE < (Q1 - 1.5 * IQR)) | (df.ASSESSED_VALUE > (Q3 + 1.5 * IQR) )\n",
    "# df_cut = df[outlier_mask]\n",
    "# df_cut.ASSESSED_VALUE.hist(bins=50)\n",
    "\n",
    "df_cut = quantile_cutter(df,'ASSESSED_VALUE',0.97,0.11,verbose=True)"
   ]
  },
  {
   "cell_type": "code",
   "execution_count": 14,
   "metadata": {},
   "outputs": [],
   "source": [
    "# I tried removing outliers from above the 75th percentile for the LAND_SIZE_SM and it decreased the dataset\n",
    "# by about 100 000 rows. It also decreased the r^2 and MAE values. This is an interesting result worth investigating\n",
    "# in the future.\n",
    "\n",
    "# df_cut.describe()\n",
    "# df_cut.LAND_SIZE_SM = pd.to_numeric(df_cut.LAND_SIZE_SM)\n",
    "# df_cut.boxplot(vert = False)\n",
    "# print(df_cut.shape)\n",
    "# df_cut = quantile_cutter(df_cut,'LAND_SIZE_SM',0.75,0.01,verbose=True)\n",
    "# print(df_cut.shape)"
   ]
  },
  {
   "cell_type": "markdown",
   "metadata": {},
   "source": [
    "Other LAND_SIZE columns with suffixes SF and AC are the same land measurements but with equivalent values in square feet and acres and therefore will not be included in the columns chosen for the analysis of our model. "
   ]
  },
  {
   "cell_type": "code",
   "execution_count": 15,
   "metadata": {},
   "outputs": [],
   "source": [
    "to_keep = ['ASSESSED_VALUE','COMM_NAME', 'YEAR_OF_CONSTRUCTION', 'LAND_SIZE_SM']\n",
    "df_chosen = df_cut[to_keep].copy()"
   ]
  },
  {
   "cell_type": "markdown",
   "metadata": {},
   "source": [
    " As seen below we see there are still a few object types left so we will convert them so that all features are numerical in preparation of giving it to our model. "
   ]
  },
  {
   "cell_type": "code",
   "execution_count": 16,
   "metadata": {},
   "outputs": [
    {
     "data": {
      "text/plain": [
       "ASSESSED_VALUE           int32\n",
       "COMM_NAME               object\n",
       "YEAR_OF_CONSTRUCTION    object\n",
       "LAND_SIZE_SM            object\n",
       "dtype: object"
      ]
     },
     "execution_count": 16,
     "metadata": {},
     "output_type": "execute_result"
    }
   ],
   "source": [
    "df_chosen.dtypes"
   ]
  },
  {
   "cell_type": "code",
   "execution_count": 17,
   "metadata": {},
   "outputs": [],
   "source": [
    "df_chosen['LAND_SIZE_SM'] = df_chosen['LAND_SIZE_SM'].astype(float)\n",
    "df_chosen['YEAR_OF_CONSTRUCTION'] = df_chosen['YEAR_OF_CONSTRUCTION'].astype(int)"
   ]
  },
  {
   "cell_type": "markdown",
   "metadata": {},
   "source": [
    "The COMM_NAME is categorical data and will be one-hot encoded instead."
   ]
  },
  {
   "cell_type": "code",
   "execution_count": 18,
   "metadata": {},
   "outputs": [],
   "source": [
    "#Use one-hot encoding for COMM_NAME\n",
    "dummy = pd.get_dummies(df_chosen['COMM_NAME'])\n",
    "df_chosen = pd.concat((df_chosen,dummy), axis=1)\n",
    "df_chosen = df_chosen.drop(columns=['COMM_NAME'])"
   ]
  },
  {
   "cell_type": "markdown",
   "metadata": {},
   "source": [
    "We are now ready to split our data and begin training it."
   ]
  },
  {
   "cell_type": "code",
   "execution_count": 19,
   "metadata": {},
   "outputs": [],
   "source": [
    "#Split data for training and testing\n",
    "X = df_chosen.drop('ASSESSED_VALUE', axis=1)\n",
    "y = df_chosen['ASSESSED_VALUE']"
   ]
  },
  {
   "cell_type": "code",
   "execution_count": 20,
   "metadata": {},
   "outputs": [
    {
     "name": "stdout",
     "output_type": "stream",
     "text": [
      "(297168, 245) (146367, 245) (297168,) (146367,)\n"
     ]
    }
   ],
   "source": [
    "X_train, X_test, y_train, y_test = train_test_split(X,y, test_size = 0.33, random_state=1)\n",
    "print(X_train.shape, X_test.shape, y_train.shape, y_test.shape)"
   ]
  },
  {
   "cell_type": "markdown",
   "metadata": {},
   "source": [
    "Let's test it with a random forest regression model. This works by training a collection of decision trees on random subsamples of the dataset, and averages the output of all trees. This is a good choice because we are giving the model a range of different input types such as integers, floats, and one-hot encoded data, and I've read that the random forest model is a very robust algorithm that can usually handle that variety and give good results. It also should be good at capturing any non-linear relationships."
   ]
  },
  {
   "cell_type": "code",
   "execution_count": 21,
   "metadata": {},
   "outputs": [
    {
     "data": {
      "text/plain": [
       "RandomForestRegressor(n_estimators=16, random_state=1)"
      ]
     },
     "execution_count": 21,
     "metadata": {},
     "output_type": "execute_result"
    }
   ],
   "source": [
    "#Test with random forest\n",
    "rf_regressor = RandomForestRegressor(n_estimators = 16, random_state = 1)\n",
    "rf_regressor.fit(X_train, y_train)"
   ]
  },
  {
   "cell_type": "code",
   "execution_count": 22,
   "metadata": {},
   "outputs": [
    {
     "name": "stdout",
     "output_type": "stream",
     "text": [
      "r^2 = 0.8387434732589701\n",
      "MAE = 45309.4626011826\n"
     ]
    }
   ],
   "source": [
    "#Random forest accuracy\n",
    "y_pred = rf_regressor.predict(X_test)\n",
    "r_square = r2_score(y_test, y_pred)\n",
    "MAE = mean_absolute_error(y_test, y_pred)\n",
    "print('r^2 =', r_square)\n",
    "print('MAE =', MAE)"
   ]
  },
  {
   "cell_type": "markdown",
   "metadata": {},
   "source": [
    "Generally a good $r^2$ should be above 0.7 from what I've read. But it can be very context dependent. It gives us a rough a idea of how well the model is performing. The MAE is the mean absolute error which gives us a dollar value range of how close our predicted values are on average from the actual."
   ]
  },
  {
   "cell_type": "code",
   "execution_count": 23,
   "metadata": {},
   "outputs": [
    {
     "data": {
      "text/plain": [
       "Text(0.5, 1.0, 'Predicted')"
      ]
     },
     "execution_count": 23,
     "metadata": {},
     "output_type": "execute_result"
    },
    {
     "data": {
      "image/png": "[encoded data removed]",
      "text/plain": [
       "<Figure size 432x288 with 1 Axes>"
      ]
     },
     "metadata": {
      "needs_background": "light"
     },
     "output_type": "display_data"
    }
   ],
   "source": [
    "#Predicted\n",
    "plt.hist(y_pred, bins=100)\n",
    "plt.xlabel('ASSESSMENT VALUE $')\n",
    "plt.title('Predicted')"
   ]
  },
  {
   "cell_type": "code",
   "execution_count": 25,
   "metadata": {},
   "outputs": [
    {
     "data": {
      "image/png": "[encoded data removed]",
      "text/plain": [
       "<Figure size 432x288 with 1 Axes>"
      ]
     },
     "metadata": {
      "needs_background": "light"
     },
     "output_type": "display_data"
    }
   ],
   "source": [
    "plt.hist(y_pred,bins=100, alpha=0.5)\n",
    "y_test.hist(bins=100, alpha=0.5)\n",
    "plt.xlabel('ASSESSMENT VALUE $')\n",
    "plt.title(\"Actual\")\n",
    "plt.show()"
   ]
  },
  {
   "cell_type": "code",
   "execution_count": 55,
   "metadata": {},
   "outputs": [
    {
     "data": {
      "text/plain": [
       "<matplotlib.legend.Legend at 0x25777df4d60>"
      ]
     },
     "execution_count": 55,
     "metadata": {},
     "output_type": "execute_result"
    },
    {
     "data": {
      "image/png": "[encoded data removed]",
      "text/plain": [
       "<Figure size 432x288 with 1 Axes>"
      ]
     },
     "metadata": {
      "needs_background": "light"
     },
     "output_type": "display_data"
    }
   ],
   "source": [
    "residuals = (y_test - y_pred)\n",
    "_=plt.hist(residuals, bins=100)\n",
    "plt.xlim(-400_000,400_000)\n",
    "plt.title('Residuals')\n",
    "plt.ylabel('Counts')\n",
    "plt.xlabel('$ Amount of Error')\n",
    "\n",
    "plt.axvline(np.quantile(residuals,0.75),zorder=3, color='red', linestyle='--',label='75th percentile')\n",
    "plt.axvline(np.quantile(residuals,0.5),zorder=3, color='black', linestyle='--',label='50th percentile')\n",
    "plt.axvline(np.quantile(residuals,0.25),zorder=3, color='red', linestyle='--',label='25th percentile')\n",
    "plt.legend()\n"
   ]
  },
  {
   "cell_type": "markdown",
   "metadata": {},
   "source": [
    "We can see from the above plots that the predicted values follow the general distribution of what was expected. The residuals are centered at 0 which is great because this means most of our errors are smaller errors."
   ]
  },
  {
   "cell_type": "markdown",
   "metadata": {},
   "source": [
    "## Conclusion and Future Works"
   ]
  },
  {
   "cell_type": "markdown",
   "metadata": {},
   "source": [
    "We found that by using a random forest regressor, the model was able to predict with good performance of 0.84 for it's $r^2$ value. The model was also able to predict within about $45000 of the actual value. These results are not a good indication of how unconventional properties such as trailer homes would be assessed. However further analysis looking into outlier detection should be assessed to better avoid any unwanted biases from the land size and assessment values. Rigorous hyperparameter tuning should also be considered to optimize the model performance."
   ]
  }
 ],
 "metadata": {
  "interpreter": {
   "hash": "46c2e5f88ffe522c94d0d86fee70cf050a61c998a5ef88deafd7d5a161ae2cc1"
  },
  "kernelspec": {
   "display_name": "Python 3.9.7 ('base')",
   "language": "python",
   "name": "python3"
  },
  "language_info": {
   "codemirror_mode": {
    "name": "ipython",
    "version": 3
   },
   "file_extension": ".py",
   "mimetype": "text/x-python",
   "name": "python",
   "nbconvert_exporter": "python",
   "pygments_lexer": "ipython3",
   "version": "3.9.7"
  },
  "orig_nbformat": 4
 },
 "nbformat": 4,
 "nbformat_minor": 2
}
